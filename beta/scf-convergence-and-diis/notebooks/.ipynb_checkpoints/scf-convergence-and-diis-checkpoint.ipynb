{
 "cells": [
  {
   "cell_type": "markdown",
   "id": "98c27aaf",
   "metadata": {
    "slideshow": {
     "slide_type": "slide"
    }
   },
   "source": [
    "<center>\n",
    "    <img src=\"../slides/0001.jpg\" alt=\"slide 1\"/>\n",
    "<center/>"
   ]
  },
  {
   "cell_type": "markdown",
   "id": "b3994394",
   "metadata": {
    "slideshow": {
     "slide_type": "slide"
    }
   },
   "source": [
    "\n",
    "In this, notebook we learn :\n",
    "- How to apply the **SCF**(*self-consistent field*) method to obtain a ground state energy for a closed-shell system using Restricted Hartree-Fock formalism. \n",
    "- How to acclerate **SCF** using an extrapolation method called **DIIS**(*Direct Inversion of the Iterative Subspace*). "
   ]
  },
  {
   "cell_type": "markdown",
   "id": "dd8940a1",
   "metadata": {
    "slideshow": {
     "slide_type": "slide"
    }
   },
   "source": [
    "<center>\n",
    "    <img src=\"../slides/0002.jpg\" alt=\"slide 2\" style=\"width=800, height=600\" />\n",
    "<center/>"
   ]
  },
  {
   "cell_type": "markdown",
   "id": "665e8400",
   "metadata": {
    "slideshow": {
     "slide_type": "subslide"
    }
   },
   "source": [
    "<center>\n",
    "    <img src=\"../slides/0003.jpg\" alt=\"slide 3\" style=\"width=800, height=600\" />\n",
    "<center/>"
   ]
  },
  {
   "cell_type": "markdown",
   "id": "ea1e510b",
   "metadata": {
    "slideshow": {
     "slide_type": "subslide"
    }
   },
   "source": [
    "<center>\n",
    "    <img src=\"../slides/0004.jpg\" alt=\"slide 4\" style=\"width=800, height=600\" />\n",
    "<center/>"
   ]
  },
  {
   "cell_type": "code",
   "execution_count": 1,
   "id": "2911878d",
   "metadata": {
    "slideshow": {
     "slide_type": "slide"
    }
   },
   "outputs": [],
   "source": [
    "# Getting the Paraphernelia\n",
    "import numpy as np"
   ]
  },
  {
   "cell_type": "code",
   "execution_count": 2,
   "id": "604c6b59",
   "metadata": {
    "slideshow": {
     "slide_type": "fragment"
    }
   },
   "outputs": [
    {
     "name": "stdout",
     "output_type": "stream",
     "text": [
      "\r\n",
      "Size of the ERI tensor will be 0.00 GB.\r\n"
     ]
    }
   ],
   "source": [
    "# Generating AO integrals and storing them as .npz files\n",
    "!python ../code/aoint.py sto-3g"
   ]
  },
  {
   "cell_type": "code",
   "execution_count": 3,
   "id": "bbc25ea6",
   "metadata": {
    "slideshow": {
     "slide_type": "fragment"
    }
   },
   "outputs": [],
   "source": [
    "S = np.load('../data/h2o_oeints.npz')['overlap']\n",
    "T = np.load('../data/h2o_oeints.npz')['kinetic']\n",
    "V = np.load('../data/h2o_oeints.npz')['potential']\n",
    "I = np.load('../data/h2o_erints.npz')['erints']\n",
    "H_core = T + V"
   ]
  },
  {
   "cell_type": "markdown",
   "id": "14241da5",
   "metadata": {
    "slideshow": {
     "slide_type": "slide"
    }
   },
   "source": [
    "<center>\n",
    "    <img src=\"../slides/0005.jpg\" alt=\"slide 5\" style=\"width=800, height=600\" />\n",
    "<center/>"
   ]
  },
  {
   "cell_type": "code",
   "execution_count": 4,
   "id": "9375e984",
   "metadata": {
    "slideshow": {
     "slide_type": "subslide"
    }
   },
   "outputs": [
    {
     "name": "stdout",
     "output_type": "stream",
     "text": [
      "\n",
      "Do we have any hope that our AO basis is orthonormal? False!\n"
     ]
    }
   ],
   "source": [
    "# ==> Inspecting S for AO orthonormality <==\n",
    "hope = np.allclose(S, np.eye(S.shape[0]))\n",
    "print('\\nDo we have any hope that our AO basis is orthonormal? %s!' % (hope))"
   ]
  },
  {
   "cell_type": "code",
   "execution_count": 5,
   "id": "df6cdc8b",
   "metadata": {
    "slideshow": {
     "slide_type": "subslide"
    }
   },
   "outputs": [
    {
     "name": "stdout",
     "output_type": "stream",
     "text": [
      "There is a chance for diagonalisation\n"
     ]
    }
   ],
   "source": [
    "# Diagonalise the Overlap matrix\n",
    "svals, svecs = np.linalg.eigh(S)\n",
    "# Taking the inverse square root\n",
    "X = np.linalg.inv(np.diag(np.sqrt(svals)))\n",
    "# Using the eigen vector back transform from eigen basis to previous basis.\n",
    "X = np.einsum('aI,IJ,Jb', svecs, X, svecs.T)\n",
    "\n",
    "# Orthonormalising S\n",
    "S_p = np.einsum('ij,jk,kl->il', X.T, S, X)\n",
    "# Checking if orthonormalised\n",
    "orthonormalised = np.allclose(S_p, np.eye(S.shape[0]), atol=1e-08)\n",
    "if orthonormalised:\n",
    "    print(\"There is a chance for diagonalisation\")\n",
    "else:\n",
    "    print(\"There's something wrong with the transformation.\")"
   ]
  },
  {
   "cell_type": "markdown",
   "id": "e17acabf",
   "metadata": {
    "slideshow": {
     "slide_type": "slide"
    }
   },
   "source": [
    "<center>\n",
    "    <img src=\"../slides/0006.jpg\" alt=\"slide 6\" style=\"width=800, height=600\" />\n",
    "<center/>"
   ]
  },
  {
   "cell_type": "code",
   "execution_count": 6,
   "id": "2bb528b1",
   "metadata": {
    "slideshow": {
     "slide_type": "subslide"
    }
   },
   "outputs": [],
   "source": [
    "# Transforming the Fock matrix\n",
    "F_p = np.einsum('ij,jk,kl->il', X.T, H_core, X)\n",
    "# Diagonalising the Fock matrix eigenvalues and eigenvectors\n",
    "e, C_p = np.linalg.eigh(F_p)\n",
    "# Transform C_p back into AO basis\n",
    "C = np.dot(X, C_p)\n",
    "# slicing out occupied orbitals\n",
    "ndocc = 5\n",
    "C_occ = C[:, :ndocc]\n",
    "# Building density matrix from C_occ\n",
    "D = np.einsum('pi,qi->pq', C_occ, C_occ, optimize=True)"
   ]
  },
  {
   "cell_type": "code",
   "execution_count": 7,
   "id": "cbfc9b47",
   "metadata": {
    "code_folding": [],
    "slideshow": {
     "slide_type": "subslide"
    }
   },
   "outputs": [],
   "source": [
    "# ==> SCF Iterations <==\n",
    "# Maximum SCF iterations\n",
    "MAXITER = 50\n",
    "# Energy convergence criterion\n",
    "E_conv = 1.0e-10\n",
    "D_conv = 1.0e-8\n",
    "# Pre-iteration energy declarations\n",
    "SCF_E = 0.0\n",
    "E_old = 0.0\n"
   ]
  },
  {
   "cell_type": "code",
   "execution_count": 8,
   "id": "0a171775",
   "metadata": {
    "code_folding": [
     2
    ],
    "slideshow": {
     "slide_type": "subslide"
    }
   },
   "outputs": [
    {
     "name": "stdout",
     "output_type": "stream",
     "text": [
      "==> Starting SCF Iterations <==\n",
      "\n",
      "SCF Iteration   1: Energy = -81.2881629233857979 dE = -8.12882E+01\n",
      "SCF Iteration   2: Energy = -80.7620614193841675 dE =  5.26102E-01\n",
      "SCF Iteration   3: Energy = -80.4876942697945026 dE =  2.74367E-01\n",
      "SCF Iteration   4: Energy = -80.4657917548717592 dE =  2.19025E-02\n",
      "SCF Iteration   5: Energy = -80.4616027349987775 dE =  4.18902E-03\n",
      "SCF Iteration   6: Energy = -80.4606338529288507 dE =  9.68882E-04\n",
      "SCF Iteration   7: Energy = -80.4604211214459184 dE =  2.12731E-04\n",
      "SCF Iteration   8: Energy = -80.4603728090642534 dE =  4.83124E-05\n",
      "SCF Iteration   9: Energy = -80.4603619905947767 dE =  1.08185E-05\n",
      "SCF Iteration  10: Energy = -80.4603595507151681 dE =  2.43988E-06\n",
      "SCF Iteration  11: Energy = -80.4603590022545205 dE =  5.48461E-07\n",
      "SCF Iteration  12: Energy = -80.4603588787711175 dE =  1.23483E-07\n",
      "SCF Iteration  13: Energy = -80.4603588509901186 dE =  2.77810E-08\n",
      "SCF Iteration  14: Energy = -80.4603588447377547 dE =  6.25236E-09\n",
      "SCF Iteration  15: Energy = -80.4603588433308659 dE =  1.40689E-09\n",
      "SCF Iteration  16: Energy = -80.4603588430142764 dE =  3.16589E-10\n",
      "SCF Iteration  17: Energy = -80.4603588429430090 dE =  7.12674E-11\n",
      "\n",
      "SCF converged.\n",
      "Final RHF Energy: -80.46035884 [Eh]\n"
     ]
    }
   ],
   "source": [
    "print('==> Starting SCF Iterations <==\\n')\n",
    "# Begin Iterations\n",
    "for scf_iter in range(1, MAXITER + 1):\n",
    "    # Build Fock matrix\n",
    "    J = np.einsum('pqrs,rs->pq', I, D, optimize=True)\n",
    "    K = np.einsum('prqs,rs->pq', I, D, optimize=True)\n",
    "    F = H_core + 2*J - K\n",
    "    # Compute RHF energy\n",
    "    SCF_E = np.einsum('pq,pq->', (H_core + F), D, optimize=True)\n",
    "    print('SCF Iteration %3d: Energy = %4.16f dE = % 1.5E' % (scf_iter, SCF_E, SCF_E - E_old))   \n",
    "    # SCF Converged?\n",
    "    if (abs(SCF_E - E_old) < E_conv):\n",
    "        break\n",
    "    E_old = SCF_E    \n",
    "    # Compute new orbital guess\n",
    "    F_p =  np.einsum('ij,jk,kl->il', X, F, X)\n",
    "    e, C_p = np.linalg.eig(F_p)\n",
    "    C = np.dot(X, C_p)\n",
    "    C_occ = C[:, :ndocc]\n",
    "    D = np.einsum('pi,qi->pq', C_occ, C_occ, optimize=True)\n",
    "    \n",
    "    # MAXITER exceeded?\n",
    "    if (scf_iter == MAXITER):\n",
    "        raise Exception(\"Maximum number of SCF iterations exceeded.\")\n",
    "# Post iterations\n",
    "print('\\nSCF converged.')\n",
    "print('Final RHF Energy: %.8f [Eh]' % (SCF_E))"
   ]
  },
  {
   "cell_type": "markdown",
   "id": "45a1fb73",
   "metadata": {
    "slideshow": {
     "slide_type": "slide"
    }
   },
   "source": [
    "## Let's try for a slightly larger basis"
   ]
  },
  {
   "cell_type": "code",
   "execution_count": 9,
   "id": "5c1e8b2e",
   "metadata": {
    "slideshow": {
     "slide_type": "fragment"
    }
   },
   "outputs": [
    {
     "name": "stdout",
     "output_type": "stream",
     "text": [
      "\r\n",
      "Size of the ERI tensor will be 0.09 GB.\r\n"
     ]
    }
   ],
   "source": [
    "# Generating AO integrals for cc-pvtz\n",
    "!python ../code/aoint.py cc-pvtz\n"
   ]
  },
  {
   "cell_type": "code",
   "execution_count": 10,
   "id": "c92265c8",
   "metadata": {},
   "outputs": [],
   "source": [
    "S = np.load('../data/h2o_oeints.npz')['overlap']\n",
    "T = np.load('../data/h2o_oeints.npz')['kinetic']\n",
    "V = np.load('../data/h2o_oeints.npz')['potential']\n",
    "I = np.load('../data/h2o_erints.npz')['erints']\n",
    "H_core = T + V"
   ]
  },
  {
   "cell_type": "code",
   "execution_count": 11,
   "id": "a8f0e58f",
   "metadata": {
    "slideshow": {
     "slide_type": "subslide"
    }
   },
   "outputs": [
    {
     "name": "stdout",
     "output_type": "stream",
     "text": [
      "\n",
      "Do we have any hope that our AO basis is orthonormal? False!\n",
      "There is a chance for diagonalisation\n",
      "==> Starting SCF Iterations <==\n",
      "\n",
      "SCF Iteration   1: Energy = -69.1347968401195203 dE = -6.91348E+01\n",
      "SCF Iteration   2: Energy = -73.8555083348786212 dE = -4.72071E+00\n",
      "SCF Iteration   3: Energy = -78.9567919922574930 dE = -5.10128E+00\n",
      "SCF Iteration   4: Energy = -77.5705309079189647 dE =  1.38626E+00\n",
      "SCF Iteration   5: Energy = -80.4078732350268410 dE = -2.83734E+00\n",
      "SCF Iteration   6: Energy = -78.5636142545179439 dE =  1.84426E+00\n",
      "SCF Iteration   7: Energy = -80.8401891040232670 dE = -2.27657E+00\n",
      "SCF Iteration   8: Energy = -78.9968790717921650 dE =  1.84331E+00\n",
      "SCF Iteration   9: Energy = -81.0445277765533660 dE = -2.04765E+00\n",
      "SCF Iteration  10: Energy = -79.2502300566142992 dE =  1.79430E+00\n",
      "SCF Iteration  11: Energy = -81.1702581595921941 dE = -1.92003E+00\n",
      "SCF Iteration  12: Energy = -79.4207412202195684 dE =  1.74952E+00\n",
      "SCF Iteration  13: Energy = -81.2574417841521779 dE = -1.83670E+00\n",
      "SCF Iteration  14: Energy = -80.6382468146913993 dE =  6.19195E-01\n",
      "SCF Iteration  15: Energy = -81.8060592445228565 dE = -1.16781E+00\n",
      "SCF Iteration  16: Energy = -81.0375710019176410 dE =  7.68488E-01\n",
      "SCF Iteration  17: Energy = -82.0323551720707087 dE = -9.94784E-01\n",
      "SCF Iteration  18: Energy = -81.2104173916206662 dE =  8.21938E-01\n",
      "SCF Iteration  19: Energy = -82.1328210092766255 dE = -9.22404E-01\n",
      "SCF Iteration  20: Energy = -82.5674752866804624 dE = -4.34654E-01\n",
      "SCF Iteration  21: Energy = -83.1491071642107187 dE = -5.81632E-01\n",
      "SCF Iteration  22: Energy = -83.4617045573220651 dE = -3.12597E-01\n",
      "SCF Iteration  23: Energy = -83.7115925113282628 dE = -2.49888E-01\n",
      "SCF Iteration  24: Energy = -83.8462016480608270 dE = -1.34609E-01\n",
      "SCF Iteration  25: Energy = -83.9288413708520835 dE = -8.26397E-02\n",
      "SCF Iteration  26: Energy = -83.9716034037429750 dE = -4.27620E-02\n",
      "SCF Iteration  27: Energy = -83.9951748874826905 dE = -2.35715E-02\n",
      "SCF Iteration  28: Energy = -84.0072057347110501 dE = -1.20308E-02\n",
      "SCF Iteration  29: Energy = -84.0135682844026519 dE = -6.36255E-03\n",
      "SCF Iteration  30: Energy = -84.0168148188785722 dE = -3.24653E-03\n",
      "SCF Iteration  31: Energy = -84.0185045683967644 dE = -1.68975E-03\n",
      "SCF Iteration  32: Energy = -84.0193690014646108 dE = -8.64433E-04\n",
      "SCF Iteration  33: Energy = -84.0198159980625974 dE = -4.46997E-04\n",
      "SCF Iteration  34: Energy = -84.0200451724136883 dE = -2.29174E-04\n",
      "SCF Iteration  35: Energy = -84.0201633394359817 dE = -1.18167E-04\n",
      "SCF Iteration  36: Energy = -84.0202240070863695 dE = -6.06677E-05\n",
      "SCF Iteration  37: Energy = -84.0202552468108337 dE = -3.12397E-05\n",
      "SCF Iteration  38: Energy = -84.0202712979690887 dE = -1.60512E-05\n",
      "SCF Iteration  39: Energy = -84.0202795578515378 dE = -8.25988E-06\n",
      "SCF Iteration  40: Energy = -84.0202838036089048 dE = -4.24576E-06\n",
      "SCF Iteration  41: Energy = -84.0202859877546189 dE = -2.18415E-06\n",
      "SCF Iteration  42: Energy = -84.0202871107002238 dE = -1.12295E-06\n",
      "SCF Iteration  43: Energy = -84.0202876882823375 dE = -5.77582E-07\n",
      "SCF Iteration  44: Energy = -84.0202879852716933 dE = -2.96989E-07\n",
      "SCF Iteration  45: Energy = -84.0202881380138535 dE = -1.52742E-07\n",
      "SCF Iteration  46: Energy = -84.0202882165577876 dE = -7.85439E-08\n",
      "SCF Iteration  47: Energy = -84.0202882569512468 dE = -4.03935E-08\n",
      "SCF Iteration  48: Energy = -84.0202882777232389 dE = -2.07720E-08\n",
      "SCF Iteration  49: Energy = -84.0202882884055100 dE = -1.06823E-08\n",
      "SCF Iteration  50: Energy = -84.0202882938989717 dE = -5.49346E-09\n",
      "Traceback (most recent call last):\n",
      "  File \"../code/scf.py\", line 79, in <module>\n",
      "    raise Exception(\"Maximum number of SCF iterations exceeded.\")\n",
      "Exception: Maximum number of SCF iterations exceeded.\n"
     ]
    }
   ],
   "source": [
    "# Running scf code the same as above\n",
    "!python ../code/scf.py"
   ]
  },
  {
   "cell_type": "markdown",
   "id": "55b380d5",
   "metadata": {
    "slideshow": {
     "slide_type": "slide"
    }
   },
   "source": [
    "### Can we accelerate the SCF cycles?"
   ]
  },
  {
   "cell_type": "markdown",
   "id": "af55cd65",
   "metadata": {
    "slideshow": {
     "slide_type": "slide"
    }
   },
   "source": [
    "<center>\n",
    "    <img src=\"../slides/0007.jpg\" alt=\"slide 7\" style=\"width=800, height=600\" />\n",
    "<center/>"
   ]
  },
  {
   "cell_type": "markdown",
   "id": "0988a9b9",
   "metadata": {
    "slideshow": {
     "slide_type": "subslide"
    }
   },
   "source": [
    "<center>\n",
    "    <img src=\"../slides/0008.jpg\" alt=\"slide 8\" style=\"width=800, height=600\" />\n",
    "<center/>"
   ]
  },
  {
   "cell_type": "markdown",
   "id": "840062e1",
   "metadata": {
    "slideshow": {
     "slide_type": "subslide"
    }
   },
   "source": [
    "<center>\n",
    "    <img src=\"../slides/0009.jpg\" alt=\"slide 9\" style=\"width=800, height=600\" />\n",
    "<center/>"
   ]
  },
  {
   "cell_type": "markdown",
   "id": "10dac615",
   "metadata": {
    "slideshow": {
     "slide_type": "subslide"
    }
   },
   "source": [
    "<center>\n",
    "    <img src=\"../slides/0010.jpg\" alt=\"slide 10\" style=\"width=800, height=600\" />\n",
    "<center/>"
   ]
  },
  {
   "cell_type": "markdown",
   "id": "ed19527a",
   "metadata": {
    "slideshow": {
     "slide_type": "subslide"
    }
   },
   "source": [
    "<center>\n",
    "    <img src=\"../slides/0011.jpg\" alt=\"slide 11\" style=\"width=800, height=600\" />\n",
    "<center/>"
   ]
  },
  {
   "cell_type": "code",
   "execution_count": 12,
   "id": "6beec79a",
   "metadata": {
    "slideshow": {
     "slide_type": "subslide"
    }
   },
   "outputs": [],
   "source": [
    "# ==> SCF Iterations <==\n",
    "# Maximum SCF iterations\n",
    "MAXITER = 50\n",
    "# Energy convergence criterion\n",
    "E_conv = 1.0e-10\n",
    "D_conv = 1.0e-8\n",
    "# Pre-iteration energy declarations\n",
    "SCF_E = 0.0\n",
    "E_old = 0.0"
   ]
  },
  {
   "cell_type": "code",
   "execution_count": 13,
   "id": "f32eff90",
   "metadata": {
    "slideshow": {
     "slide_type": "subslide"
    }
   },
   "outputs": [
    {
     "name": "stdout",
     "output_type": "stream",
     "text": [
      "There is a chance for diagonalisation\n"
     ]
    }
   ],
   "source": [
    "# Diagonalise the Overlap matrix\n",
    "svals, svecs = np.linalg.eigh(S)\n",
    "# Taking the inverse square root\n",
    "X = np.linalg.inv(np.diag(np.sqrt(svals)))\n",
    "# Using the eigen vector back transform from eigen basis to previous basis.\n",
    "X = np.einsum('aI,IJ,Jb', svecs, X, svecs.T)\n",
    "\n",
    "# Orthonormalising S\n",
    "S_p = np.einsum('ij,jk,kl->il', X.T, S, X)\n",
    "# Checking if orthonormalised\n",
    "orthonormalised = np.allclose(S_p, np.eye(S.shape[0]), atol=1e-08)\n",
    "if orthonormalised:\n",
    "    print(\"There is a chance for diagonalisation\")\n",
    "else:\n",
    "    print(\"There's something wrong with the transformation.\")"
   ]
  },
  {
   "cell_type": "code",
   "execution_count": 14,
   "id": "86795439",
   "metadata": {
    "slideshow": {
     "slide_type": "subslide"
    }
   },
   "outputs": [],
   "source": [
    "# Start from fresh orbitals\n",
    "F_p =  np.dot(np.dot(X,H_core),X)\n",
    "e, C_p = np.linalg.eigh(F_p)\n",
    "C = np.dot(X,C_p)\n",
    "C_occ = C[:, :ndocc]\n",
    "D = np.einsum('pi,qi->pq', C_occ, C_occ, optimize=True)\n",
    "\n",
    "# Trial & Residual Vector Lists\n",
    "diis_iter = MAXITER # int(N) if you want to switch of DIIS after 'N' scf cycles \n",
    "F_list = []\n",
    "DIIS_RESID = []"
   ]
  },
  {
   "cell_type": "code",
   "execution_count": 15,
   "id": "5da59550",
   "metadata": {
    "code_folding": [
     21,
     25
    ],
    "scrolled": false,
    "slideshow": {
     "slide_type": "subslide"
    }
   },
   "outputs": [
    {
     "name": "stdout",
     "output_type": "stream",
     "text": [
      "==> Starting SCF Iterations <==\n",
      "\n",
      "SCF Iteration   1: Energy = -69.1347968401194919 dE = -6.91348E+01 dRMS = 1.33446E-01   DIIS is ON\n",
      "SCF Iteration   2: Energy = -73.8555083348785502 dE = -4.72071E+00 dRMS = 5.03754E-02   DIIS is ON\n",
      "SCF Iteration   3: Energy = -80.9851657019508906 dE = -7.12966E+00 dRMS = 5.41654E-02   DIIS is ON\n",
      "SCF Iteration   4: Energy = -83.3476769740025816 dE = -2.36251E+00 dRMS = 2.29219E-02   DIIS is ON\n",
      "SCF Iteration   5: Energy = -84.0071321201823480 dE = -6.59455E-01 dRMS = 2.42631E-03   DIIS is ON\n",
      "SCF Iteration   6: Energy = -84.0191685957183410 dE = -1.20365E-02 dRMS = 9.18560E-04   DIIS is ON\n",
      "SCF Iteration   7: Energy = -84.0201944120005066 dE = -1.02582E-03 dRMS = 1.80133E-04   DIIS is ON\n",
      "SCF Iteration   8: Energy = -84.0202825456275946 dE = -8.81336E-05 dRMS = 3.73431E-05   DIIS is ON\n",
      "SCF Iteration   9: Energy = -84.0202880247193207 dE = -5.47909E-06 dRMS = 7.08676E-06   DIIS is ON\n",
      "SCF Iteration  10: Energy = -84.0202882912433040 dE = -2.66524E-07 dRMS = 1.35952E-06   DIIS is ON\n",
      "SCF Iteration  11: Energy = -84.0202882993160500 dE = -8.07275E-09 dRMS = 4.20633E-07   DIIS is ON\n",
      "SCF Iteration  12: Energy = -84.0202882997008658 dE = -3.84816E-10 dRMS = 6.97036E-08   DIIS is ON\n",
      "SCF Iteration  13: Energy = -84.0202882997147356 dE = -1.38698E-11 dRMS = 1.02648E-08   DIIS is ON\n",
      "\n",
      "SCF converged.\n",
      "Final RHF Energy: -84.02028830 [Eh]\n"
     ]
    }
   ],
   "source": [
    "# ==> SCF Iterations w/ DIIS <==\n",
    "print('==> Starting SCF Iterations <==\\n')\n",
    "# Begin Iterations\n",
    "for scf_iter in range(1, MAXITER + 1):\n",
    "    # Build Fock matrix\n",
    "    J = np.einsum('pqrs,rs->pq', I, D, optimize=True)\n",
    "    K = np.einsum('prqs,rs->pq', I, D, optimize=True)\n",
    "    F = H_core + 2*J - K\n",
    "    if scf_iter <= diis_iter:\n",
    "        #print('DIIS is ON \\n')\n",
    "        diis_bool = True\n",
    "        # Build DIIS Residual\n",
    "        diis_r = X.dot(F.dot(D).dot(S) - S.dot(D).dot(F)).dot(X)\n",
    "        # Append trial & residual vectors to lists\n",
    "        F_list.append(F)\n",
    "        DIIS_RESID.append(diis_r)\n",
    "    else:\n",
    "        #print('DIIS is OFF \\n')\n",
    "        diis_bool = False\n",
    "    # Compute RHF energy\n",
    "    SCF_E = np.einsum('pq,pq->', (H_core + F), D, optimize=True)\n",
    "    dE = SCF_E - E_old\n",
    "    dRMS = np.mean(diis_r**2)**0.5\n",
    "    if diis_bool:\n",
    "        diis_str = '   DIIS is ON'\n",
    "    else:\n",
    "        diis_str = '   DIIS is OFF'    \n",
    "    print(('SCF Iteration %3d: Energy = %4.16f dE = % 1.5E dRMS = %1.5E' % (scf_iter, SCF_E, dE, dRMS)) + diis_str )\n",
    "    \n",
    "    # SCF Converged?\n",
    "    if (abs(dE) < E_conv):\n",
    "        break\n",
    "    E_old = SCF_E\n",
    "    \n",
    "    if scf_iter >= 2:\n",
    "        # Build B matrix\n",
    "        B_dim = len(F_list) + 1\n",
    "        B = np.empty((B_dim, B_dim))\n",
    "        B[-1, :] = -1\n",
    "        B[:, -1] = -1\n",
    "        B[-1, -1] = 0\n",
    "        for i in range(len(F_list)):\n",
    "            for j in range(len(F_list)):\n",
    "                B[i, j] = np.einsum('ij,ij->', DIIS_RESID[i], DIIS_RESID[j], optimize=True)\n",
    "\n",
    "        # Build RHS of Pulay equation \n",
    "        rhs = np.zeros((B_dim))\n",
    "        rhs[-1] = -1\n",
    "        \n",
    "        # Solve Pulay equation for c_i's with NumPy\n",
    "        coeff = np.linalg.solve(B, rhs)\n",
    "        \n",
    "        # Build DIIS Fock matrix\n",
    "        F = np.zeros_like(F)\n",
    "        for x in range(coeff.shape[0] - 1):\n",
    "            F += coeff[x] * F_list[x]\n",
    "    \n",
    "    # Compute new orbital guess with DIIS Fock matrix\n",
    "    F_p =  X.dot(F).dot(X)\n",
    "    e, C_p = np.linalg.eigh(F_p)\n",
    "    C = X.dot(C_p)\n",
    "    C_occ = C[:, :ndocc]\n",
    "    D = np.einsum('pi,qi->pq', C_occ, C_occ, optimize=True)\n",
    "    \n",
    "    # MAXITER exceeded?\n",
    "    if (scf_iter == MAXITER):\n",
    "        raise Exception(\"Maximum number of SCF iterations exceeded.\")\n",
    "\n",
    "# Post iterations\n",
    "print('\\nSCF converged.')\n",
    "print('Final RHF Energy: %.8f [Eh]' % SCF_E)"
   ]
  },
  {
   "cell_type": "markdown",
   "id": "f3177ada",
   "metadata": {
    "slideshow": {
     "slide_type": "slide"
    }
   },
   "source": [
    "**References**\n",
    "1. A. Szabo and N. S. Ostlund, *Modern Quantum Chemistry*, Introduction to Advanced Electronic Structure Theory. Courier Corporation, 1996.\n",
    "2. I. N. Levine, *Quantum Chemistry*. Prentice-Hall, New Jersey, 5th edition, 2000.\n",
    "3. P. Pulay. *Chem. Phys. Lett.* **73**, 393-398 (1980)\n",
    "4. C. David Sherrill. *\"[Some comments on accellerating convergence of iterative sequences using direct inversion of the iterative subspace (DIIS)](vergil.chemistry.gatech.edu/notes/diis/diis.pdf)\".* (1998)\n",
    "5. Smith, Daniel GA, et al. \"Psi4NumPy: An interactive quantum chemistry programming environment for reference implementations and rapid development.\" Journal of chemical theory and computation 14.7 (2018): 3504-3511."
   ]
  },
  {
   "cell_type": "markdown",
   "id": "3b539d39",
   "metadata": {
    "slideshow": {
     "slide_type": "slide"
    }
   },
   "source": [
    "<center>\n",
    "    <img src=\"../slides/0012.jpg\" alt=\"slide 12\" style=\"width=800, height=600\" />\n",
    "<center/>"
   ]
  }
 ],
 "metadata": {
  "celltoolbar": "Slideshow",
  "kernelspec": {
   "display_name": "Python 3 (ipykernel)",
   "language": "python",
   "name": "python3"
  },
  "language_info": {
   "codemirror_mode": {
    "name": "ipython",
    "version": 3
   },
   "file_extension": ".py",
   "mimetype": "text/x-python",
   "name": "python",
   "nbconvert_exporter": "python",
   "pygments_lexer": "ipython3",
   "version": "3.8.12"
  }
 },
 "nbformat": 4,
 "nbformat_minor": 5
}
